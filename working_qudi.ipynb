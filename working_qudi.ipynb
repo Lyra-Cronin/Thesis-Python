{
 "cells": [
  {
   "cell_type": "code",
   "execution_count": 1,
   "metadata": {
    "collapsed": true
   },
   "outputs": [],
   "source": [
    "import subprocess\n",
    "import yaml\n",
    "from time import sleep\n",
    "import os\n",
    "import numpy as np"
   ]
  },
  {
   "cell_type": "code",
   "execution_count": 2,
   "metadata": {
    "collapsed": true
   },
   "outputs": [],
   "source": [
    "def ticcmd(*args):\n",
    "    return subprocess.check_output(['ticcmd'] + list(args))\n",
    "\n",
    "def get_position():\n",
    "    status = yaml.load(ticcmd('-s', '--full'))\n",
    "    position = status['Current position']\n",
    "    return position\n",
    "\n",
    "def set_position(target_position):\n",
    "    position = get_position()\n",
    "    ticcmd('--resume', '--position', str(target_position))\n",
    "    while position != target_position:\n",
    "        position = get_position()\n",
    "        print(position, end=\"\\r\")\n",
    "        sleep(0.1)\n",
    "    #sleep(0.5)\n",
    "    #print(position)\n",
    "    \n",
    "def set_cavity_frequency(offset, target_frequency, co_3, co_2, co_1, co_0):\n",
    "    frequency_y2_adjusted = int(np.rint(co_3*target_frequency**3 + co_2*target_frequency**2 + co_1*target_frequency + co_0 - offset))\n",
    "    set_position(frequency_y2_adjusted)\n",
    "    \n",
    "def reset_position(initial_position):\n",
    "    set_position(initial_position - 200)\n",
    "    set_position(initial_position)\n",
    "    \n",
    "def set_to_zero():\n",
    "    zero_position = 0\n",
    "    ticcmd('--exit-safe-start', '--halt-and-set-position', str(zero_position))"
   ]
  },
  {
   "cell_type": "code",
   "execution_count": 3,
   "metadata": {
    "collapsed": true
   },
   "outputs": [],
   "source": [
    "initial_frequency = 2.793883\n",
    "initial_position = -3490\n",
    "frequencies = [initial_frequency, 2.82      , 2.82080537, 2.82161074, 2.82241611, 2.82322148,\n",
    "       2.82402685, 2.82483221, 2.82563758, 2.82644295, 2.82724832,\n",
    "       2.82805369, 2.82885906, 2.82966443, 2.8304698 , 2.83127517,\n",
    "       2.83208054, 2.83288591, 2.83369128, 2.83449664, 2.83530201,\n",
    "       2.83610738, 2.83691275, 2.83771812, 2.83852349, 2.83932886,\n",
    "       2.84013423, 2.8409396 , 2.84174497, 2.84255034, 2.8433557 ,\n",
    "       2.84416107, 2.84496644, 2.84577181, 2.84657718, 2.84738255,\n",
    "       2.84818792, 2.84899329, 2.84979866, 2.85060403, 2.8514094 ,\n",
    "       2.85221477, 2.85302013, 2.8538255 , 2.85463087, 2.85543624,\n",
    "       2.85624161, 2.85704698, 2.85785235, 2.85865772, 2.85946309,\n",
    "       2.86026846, 2.86107383, 2.86187919, 2.86268456, 2.86348993,\n",
    "       2.8642953 , 2.86510067, 2.86590604, 2.86671141, 2.86751678,\n",
    "       2.86832215, 2.86912752, 2.86993289, 2.87073826, 2.87154362,\n",
    "       2.87234899, 2.87315436, 2.87395973, 2.8747651 , 2.87557047,\n",
    "       2.87637584, 2.87718121, 2.87798658, 2.87879195, 2.87959732,\n",
    "       2.88040268, 2.88120805, 2.88201342, 2.88281879, 2.88362416,\n",
    "       2.88442953, 2.8852349 , 2.88604027, 2.88684564, 2.88765101,\n",
    "       2.88845638, 2.88926174, 2.89006711, 2.89087248, 2.89167785,\n",
    "       2.89248322, 2.89328859, 2.89409396, 2.89489933, 2.8957047 ,\n",
    "       2.89651007, 2.89731544, 2.89812081, 2.89892617, 2.89973154,\n",
    "       2.90053691, 2.90134228, 2.90214765, 2.90295302, 2.90375839,\n",
    "       2.90456376, 2.90536913, 2.9061745 , 2.90697987, 2.90778523,\n",
    "       2.9085906 , 2.90939597, 2.91020134, 2.91100671, 2.91181208,\n",
    "       2.91261745, 2.91342282, 2.91422819, 2.91503356, 2.91583893,\n",
    "       2.9166443 , 2.91744966, 2.91825503, 2.9190604 , 2.91986577,\n",
    "       2.92067114, 2.92147651, 2.92228188, 2.92308725, 2.92389262,\n",
    "       2.92469799, 2.92550336, 2.92630872, 2.92711409, 2.92791946,\n",
    "       2.92872483, 2.9295302 , 2.93033557, 2.93114094, 2.93194631,\n",
    "       2.93275168, 2.93355705, 2.93436242, 2.93516779, 2.93597315,\n",
    "       2.93677852, 2.93758389, 2.93838926, 2.93919463, 2.94]\n",
    "\n",
    "co_3 = 69278.68\n",
    "co_2 = -609102.93\n",
    "co_1 = 1790504.24\n",
    "co_0 = - 1762367.85\n",
    "\n",
    "frequency_y1 = int(np.rint(co_3*initial_frequency**3 + co_2*initial_frequency**2 + co_1*initial_frequency + co_0))\n",
    "offset = frequency_y1 - initial_position\n",
    "\n",
    "counts = [0] * len(frequencies)\n",
    "number_of_runs = 1\n",
    "integration_time = 5\n",
    "counter_frequency = 1/integration_time\n",
    "sleep_time = 6"
   ]
  },
  {
   "cell_type": "code",
   "execution_count": 30,
   "metadata": {},
   "outputs": [
    {
     "name": "stdout",
     "output_type": "stream",
     "text": [
      "-2916\r"
     ]
    }
   ],
   "source": [
    "set_cavity_frequency(offset, 2.87, co_3, co_2, co_1, co_0)"
   ]
  },
  {
   "cell_type": "code",
   "execution_count": 4,
   "metadata": {},
   "outputs": [
    {
     "name": "stdout",
     "output_type": "stream",
     "text": [
      "-3490\r"
     ]
    }
   ],
   "source": [
    "reset_position(initial_position)"
   ]
  },
  {
   "cell_type": "code",
   "execution_count": 5,
   "metadata": {},
   "outputs": [
    {
     "data": {
      "text/plain": [
       "0"
      ]
     },
     "execution_count": 5,
     "metadata": {},
     "output_type": "execute_result"
    }
   ],
   "source": [
    "counterlogic.set_count_length(300)\n",
    "counterlogic.set_count_frequency(counter_frequency)\n",
    "counterlogic.startCount()\n",
    "smiq.cw_on()"
   ]
  },
  {
   "cell_type": "code",
   "execution_count": 5,
   "metadata": {},
   "outputs": [
    {
     "data": {
      "text/plain": [
       "(2880000000.0, -40.0, 'cw')"
      ]
     },
     "execution_count": 5,
     "metadata": {},
     "output_type": "execute_result"
    }
   ],
   "source": [
    "smiq.set_cw(2.88e9)"
   ]
  },
  {
   "cell_type": "code",
   "execution_count": null,
   "metadata": {
    "collapsed": true
   },
   "outputs": [],
   "source": [
    "smiq.cw_on()"
   ]
  },
  {
   "cell_type": "code",
   "execution_count": 8,
   "metadata": {},
   "outputs": [
    {
     "name": "stdout",
     "output_type": "stream",
     "text": [
      "[1579421.2, 1580813.0, 1579365.2, 1582479.4, 1580642.6, 1581349.6, 1584274.0, 1583963.4, 1584542.8, 1583144.6, 1585545.8, 1586090.4000000001, 1586582.2000000002, 1588743.8, 1587714.8, 1585999.6, 1587280.4, 1588018.4, 1588379.4000000001, 1588429.6, 1588201.2, 1589107.8, 1588301.0, 1588073.8, 1590007.8, 1589354.6, 1590144.6, 1590476.8000000003, 1591358.4, 1591654.0, 1590280.0, 1590929.2000000002, 1592295.8, 1591026.0, 1591369.0, 1591200.0, 1591806.2000000002, 1590842.0, 1592027.4, 1591543.0, 1591906.0, 1593085.2000000002, 1591920.0, 1591936.6, 1592179.0, 1592600.0, 1594420.6, 1593976.0, 1593034.8, 1594001.4, 1593875.2000000002, 1593735.0, 1594865.0, 1594194.0, 1595304.6, 1595060.8000000003, 1596628.8, 1595420.2000000002, 1595496.8, 1595770.8, 1595615.0, 1596007.4, 1595685.8000000003, 1596712.8, 1598088.0, 1598453.0, 1597239.0, 1597092.2000000002, 1597065.0, 1599669.8000000003, 1598873.4000000001, 1600799.7999999998, 1599985.4000000001, 1599260.0, 1599085.2000000002, 1599275.6, 1600072.2, 1598945.6, 1600840.8, 1599884.0, 1599716.0, 1598603.8, 1599846.6, 1598550.4, 1599254.4, 1599797.4, 1598203.4000000001, 1599115.7999999998, 1599938.0, 1599311.6, 1599588.4000000001, 1599765.6, 1601270.2000000002, 1602112.6, 1602511.2000000002, 1602139.4000000001, 1601373.4000000001, 1602341.8, 1603942.6, 1603948.4, 1603954.7999999998, 1604495.0, 1603727.8000000003, 1603900.6, 1604124.2000000002, 1604105.8, 1604713.4000000001, 1604524.2000000002, 1605245.4, 1605566.8000000003, 1605371.7999999998, 1605943.4, 1605467.0, 1605424.2000000002, 1605797.2000000002, 1606483.6, 1606168.0, 1606427.4, 1607812.6, 1607682.8000000003, 1607284.8, 1609228.2000000002, 1608901.8000000003, 1609582.6, 1608957.2000000002, 1609052.2000000002, 1608711.4, 1609770.4, 1609369.0, 1608782.0, 1609177.2000000002, 1610741.6, 1611479.6, 1610576.2000000002, 1610309.2, 1610178.6, 1610883.6, 1610981.2, 1611476.0, 1610739.4, 1612143.4000000001, 1611136.4, 1611971.8000000003, 1613642.4, 1612777.4000000001, 1612633.2000000002, 1613156.8, 1613585.8, 1613772.2000000002, 1612249.4000000001, 1613095.6]\n",
      "[2.793883, 2.82, 2.82080537, 2.82161074, 2.82241611, 2.82322148, 2.82402685, 2.82483221, 2.82563758, 2.82644295, 2.82724832, 2.82805369, 2.82885906, 2.82966443, 2.8304698, 2.83127517, 2.83208054, 2.83288591, 2.83369128, 2.83449664, 2.83530201, 2.83610738, 2.83691275, 2.83771812, 2.83852349, 2.83932886, 2.84013423, 2.8409396, 2.84174497, 2.84255034, 2.8433557, 2.84416107, 2.84496644, 2.84577181, 2.84657718, 2.84738255, 2.84818792, 2.84899329, 2.84979866, 2.85060403, 2.8514094, 2.85221477, 2.85302013, 2.8538255, 2.85463087, 2.85543624, 2.85624161, 2.85704698, 2.85785235, 2.85865772, 2.85946309, 2.86026846, 2.86107383, 2.86187919, 2.86268456, 2.86348993, 2.8642953, 2.86510067, 2.86590604, 2.86671141, 2.86751678, 2.86832215, 2.86912752, 2.86993289, 2.87073826, 2.87154362, 2.87234899, 2.87315436, 2.87395973, 2.8747651, 2.87557047, 2.87637584, 2.87718121, 2.87798658, 2.87879195, 2.87959732, 2.88040268, 2.88120805, 2.88201342, 2.88281879, 2.88362416, 2.88442953, 2.8852349, 2.88604027, 2.88684564, 2.88765101, 2.88845638, 2.88926174, 2.89006711, 2.89087248, 2.89167785, 2.89248322, 2.89328859, 2.89409396, 2.89489933, 2.8957047, 2.89651007, 2.89731544, 2.89812081, 2.89892617, 2.89973154, 2.90053691, 2.90134228, 2.90214765, 2.90295302, 2.90375839, 2.90456376, 2.90536913, 2.9061745, 2.90697987, 2.90778523, 2.9085906, 2.90939597, 2.91020134, 2.91100671, 2.91181208, 2.91261745, 2.91342282, 2.91422819, 2.91503356, 2.91583893, 2.9166443, 2.91744966, 2.91825503, 2.9190604, 2.91986577, 2.92067114, 2.92147651, 2.92228188, 2.92308725, 2.92389262, 2.92469799, 2.92550336, 2.92630872, 2.92711409, 2.92791946, 2.92872483, 2.9295302, 2.93033557, 2.93114094, 2.93194631, 2.93275168, 2.93355705, 2.93436242, 2.93516779, 2.93597315, 2.93677852, 2.93758389, 2.93838926, 2.93919463, 2.94]\n"
     ]
    }
   ],
   "source": [
    "for i in range(number_of_runs):\n",
    "    for i in range(len(frequencies)):\n",
    "        if i == 0:\n",
    "            target_frequency = frequencies[i]\n",
    "            smiq.set_cw(frequency=target_frequency*1e9)\n",
    "            smiq.cw_on()\n",
    "            sleep(sleep_time)\n",
    "            counts[i] = counts[i] + counterlogic.countdata[0,-1]\n",
    "\n",
    "        if i != 0:\n",
    "            target_frequency = frequencies[i]\n",
    "            #set_cavity_frequency(offset, target_frequency, co_3, co_2, co_1, co_0)\n",
    "            smiq.set_cw(frequency=target_frequency*1e9)\n",
    "            smiq.cw_on()\n",
    "            sleep(sleep_time)\n",
    "            counts[i] = counts[i] + counterlogic.countdata[0,-1]\n",
    "            \n",
    "    reset_position(initial_position)\n",
    "            \n",
    "print(counts)\n",
    "print(frequencies)"
   ]
  },
  {
   "cell_type": "code",
   "execution_count": null,
   "metadata": {
    "collapsed": true
   },
   "outputs": [],
   "source": [
    "#Sets current position to 0\n",
    "zero_position = 0\n",
    "ticcmd('--exit-safe-start', '--halt-and-set-position', str(zero_position))\n",
    "\n",
    "#Get current count parameters\n",
    "counterlogic.get_count_length()\n",
    "counterlogic.get_count_frequency()\n",
    "\n",
    "# Brute force way to control anything, pull gui levers.\n",
    "counter._mw.start_counter_Action.trigger()"
   ]
  },
  {
   "cell_type": "code",
   "execution_count": 19,
   "metadata": {},
   "outputs": [
    {
     "data": {
      "text/plain": [
       "-3490"
      ]
     },
     "execution_count": 19,
     "metadata": {},
     "output_type": "execute_result"
    }
   ],
   "source": [
    "get_position()"
   ]
  },
  {
   "cell_type": "code",
   "execution_count": 18,
   "metadata": {},
   "outputs": [
    {
     "name": "stdout",
     "output_type": "stream",
     "text": [
      "-3490\r"
     ]
    }
   ],
   "source": [
    "set_position(-3490)"
   ]
  },
  {
   "cell_type": "code",
   "execution_count": 31,
   "metadata": {
    "collapsed": true
   },
   "outputs": [],
   "source": [
    "count = 4"
   ]
  },
  {
   "cell_type": "code",
   "execution_count": 32,
   "metadata": {},
   "outputs": [
    {
     "data": {
      "text/plain": [
       "4"
      ]
     },
     "execution_count": 32,
     "metadata": {},
     "output_type": "execute_result"
    }
   ],
   "source": [
    "count"
   ]
  },
  {
   "cell_type": "code",
   "execution_count": 49,
   "metadata": {},
   "outputs": [
    {
     "name": "stdout",
     "output_type": "stream",
     "text": [
      "The number is 21        \n"
     ]
    }
   ],
   "source": [
    "target = get_position() + 100\n",
    "count = count + 1\n",
    "\n",
    "set_position(target)\n",
    "print(\"The number is\", count, \"       \")"
   ]
  },
  {
   "cell_type": "code",
   "execution_count": 21,
   "metadata": {},
   "outputs": [
    {
     "data": {
      "text/plain": [
       "0"
      ]
     },
     "execution_count": 21,
     "metadata": {},
     "output_type": "execute_result"
    }
   ],
   "source": [
    "smiq.cw_on()"
   ]
  },
  {
   "cell_type": "code",
   "execution_count": 14,
   "metadata": {
    "collapsed": true
   },
   "outputs": [],
   "source": [
    "set_to_zero()"
   ]
  },
  {
   "cell_type": "code",
   "execution_count": null,
   "metadata": {
    "collapsed": true
   },
   "outputs": [],
   "source": [
    "reset_position(-4800)"
   ]
  },
  {
   "cell_type": "code",
   "execution_count": null,
   "metadata": {
    "collapsed": true
   },
   "outputs": [],
   "source": [
    "smiq.off()\n"
   ]
  },
  {
   "cell_type": "code",
   "execution_count": 9,
   "metadata": {},
   "outputs": [
    {
     "data": {
      "text/plain": [
       "array([2.82      , 2.82080537, 2.82161074, 2.82241611, 2.82322148,\n",
       "       2.82402685, 2.82483221, 2.82563758, 2.82644295, 2.82724832,\n",
       "       2.82805369, 2.82885906, 2.82966443, 2.8304698 , 2.83127517,\n",
       "       2.83208054, 2.83288591, 2.83369128, 2.83449664, 2.83530201,\n",
       "       2.83610738, 2.83691275, 2.83771812, 2.83852349, 2.83932886,\n",
       "       2.84013423, 2.8409396 , 2.84174497, 2.84255034, 2.8433557 ,\n",
       "       2.84416107, 2.84496644, 2.84577181, 2.84657718, 2.84738255,\n",
       "       2.84818792, 2.84899329, 2.84979866, 2.85060403, 2.8514094 ,\n",
       "       2.85221477, 2.85302013, 2.8538255 , 2.85463087, 2.85543624,\n",
       "       2.85624161, 2.85704698, 2.85785235, 2.85865772, 2.85946309,\n",
       "       2.86026846, 2.86107383, 2.86187919, 2.86268456, 2.86348993,\n",
       "       2.8642953 , 2.86510067, 2.86590604, 2.86671141, 2.86751678,\n",
       "       2.86832215, 2.86912752, 2.86993289, 2.87073826, 2.87154362,\n",
       "       2.87234899, 2.87315436, 2.87395973, 2.8747651 , 2.87557047,\n",
       "       2.87637584, 2.87718121, 2.87798658, 2.87879195, 2.87959732,\n",
       "       2.88040268, 2.88120805, 2.88201342, 2.88281879, 2.88362416,\n",
       "       2.88442953, 2.8852349 , 2.88604027, 2.88684564, 2.88765101,\n",
       "       2.88845638, 2.88926174, 2.89006711, 2.89087248, 2.89167785,\n",
       "       2.89248322, 2.89328859, 2.89409396, 2.89489933, 2.8957047 ,\n",
       "       2.89651007, 2.89731544, 2.89812081, 2.89892617, 2.89973154,\n",
       "       2.90053691, 2.90134228, 2.90214765, 2.90295302, 2.90375839,\n",
       "       2.90456376, 2.90536913, 2.9061745 , 2.90697987, 2.90778523,\n",
       "       2.9085906 , 2.90939597, 2.91020134, 2.91100671, 2.91181208,\n",
       "       2.91261745, 2.91342282, 2.91422819, 2.91503356, 2.91583893,\n",
       "       2.9166443 , 2.91744966, 2.91825503, 2.9190604 , 2.91986577,\n",
       "       2.92067114, 2.92147651, 2.92228188, 2.92308725, 2.92389262,\n",
       "       2.92469799, 2.92550336, 2.92630872, 2.92711409, 2.92791946,\n",
       "       2.92872483, 2.9295302 , 2.93033557, 2.93114094, 2.93194631,\n",
       "       2.93275168, 2.93355705, 2.93436242, 2.93516779, 2.93597315,\n",
       "       2.93677852, 2.93758389, 2.93838926, 2.93919463, 2.94      ])"
      ]
     },
     "execution_count": 9,
     "metadata": {},
     "output_type": "execute_result"
    }
   ],
   "source": [
    "np.linspace(2.82, 2.94, 150)"
   ]
  },
  {
   "cell_type": "code",
   "execution_count": 9,
   "metadata": {},
   "outputs": [
    {
     "data": {
      "text/plain": [
       "922329.0"
      ]
     },
     "execution_count": 9,
     "metadata": {},
     "output_type": "execute_result"
    }
   ],
   "source": [
    "counterlogic.countdata[0,-1]"
   ]
  },
  {
   "cell_type": "code",
   "execution_count": null,
   "metadata": {
    "collapsed": true
   },
   "outputs": [],
   "source": []
  }
 ],
 "metadata": {
  "kernelspec": {
   "display_name": "Qudi",
   "language": "python",
   "name": "qudi"
  },
  "language_info": {
   "codemirror_mode": {
    "name": "ipython",
    "version": "3.6.5"
   },
   "file_extension": ".py",
   "mimetype": "text/x-python",
   "name": "python",
   "nbconvert_exporter": "python",
   "pygments_lexer": "ipython3",
   "version": "3.6.5"
  }
 },
 "nbformat": 4,
 "nbformat_minor": 2
}
