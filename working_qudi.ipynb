{
 "cells": [
  {
   "cell_type": "code",
   "execution_count": 1,
   "metadata": {},
   "outputs": [],
   "source": [
    "import subprocess\n",
    "import yaml\n",
    "from time import sleep\n",
    "import os\n",
    "import numpy as np"
   ]
  },
  {
   "cell_type": "code",
   "execution_count": 2,
   "metadata": {},
   "outputs": [],
   "source": [
    "def ticcmd(*args):\n",
    "    return subprocess.check_output(['ticcmd'] + list(args))\n",
    "\n",
    "def get_position():\n",
    "    status = yaml.load(ticcmd('-s', '--full'))\n",
    "    position = status['Current position']\n",
    "    return position\n",
    "\n",
    "def set_position(target_position):\n",
    "    position = get_position()\n",
    "    ticcmd('--resume', '--position', str(target_position))\n",
    "    while position != target_position:\n",
    "        position = get_position()\n",
    "        print(position, end=\"\\r\")\n",
    "        sleep(0.1)\n",
    "    #sleep(0.5)\n",
    "    #print(position)\n",
    "    \n",
    "def set_cavity_frequency(current_frequency, target_frequency, calibration_constant):\n",
    "    frequency_change = target_frequency - current_frequency\n",
    "    steps_required = int(np.rint(frequency_change / calibration_constant))\n",
    "    target_position = get_position() + steps_required\n",
    "    set_position(target_position)\n",
    "    \n",
    "def reset_position(initial_position):\n",
    "    set_position(initial_position - 500)\n",
    "    set_position(initial_position)"
   ]
  },
  {
   "cell_type": "code",
   "execution_count": 12,
   "metadata": {},
   "outputs": [],
   "source": [
    "initial_frequency = 2\n",
    "initial_position = get_position()\n",
    "c_a = 75472.30159\n",
    "c_b = -660762.15316\n",
    "c_c = 1934011.96347\n",
    "\n",
    "frequencies = [initial_frequency, 2.6, 2.7, 2.8, 2.9]\n",
    "counts = [0] * len(frequencies)\n",
    "number_of_runs = 1\n",
    "integration_time = 0.02\n",
    "counter_frequency = 1/integration_time\n",
    "sleep_time = 0.5"
   ]
  },
  {
   "cell_type": "code",
   "execution_count": 15,
   "metadata": {},
   "outputs": [
    {
     "data": {
      "text/plain": [
       "0"
      ]
     },
     "execution_count": 15,
     "metadata": {},
     "output_type": "execute_result"
    }
   ],
   "source": [
    "smiq.cw_on()\n",
    "counterlogic.set_count_length(300)\n",
    "counterlogic.set_count_frequency(counter_frequency)\n",
    "counterlogic.startCount()"
   ]
  },
  {
   "cell_type": "code",
   "execution_count": 16,
   "metadata": {},
   "outputs": [
    {
     "name": "stdout",
     "output_type": "stream",
     "text": [
      "2.6 2.6\n",
      "2.7 2.6\n",
      "2.8 2.7\n",
      "2.9 2.8\n"
     ]
    }
   ],
   "source": [
    "for i in range(number_of_runs):\n",
    "    for i in range(len(frequencies)):\n",
    "        if i == 0:\n",
    "            target_frequency = frequencies[i]\n",
    "            current_frequency = frequencies[i]\n",
    "            smiq.set_cw(frequency=target_frequency)\n",
    "            sleep(sleep_time)\n",
    "            counts[i] = counts[i] + counterlogic.countdata[0,-1]\n",
    "\n",
    "        if i == len(frequencies):\n",
    "            target_frequency = frequencies[i]\n",
    "            current_frequency = frequencies[i - 1]\n",
    "            set_cavity_frequency(current_frequency, target_frequency, calibration_constant)\n",
    "            smiq.set_cw(frequency=target_frequency)\n",
    "            sleep(sleep_time)\n",
    "            counts[i] = counts[i] + counterlogic.countdata[0,-1]\n",
    "            reset_position(initial_position)\n",
    "\n",
    "        else:\n",
    "            target_frequency = frequencies[i]\n",
    "            current_frequency = frequencies[i - 1]\n",
    "            set_cavity_frequency(current_frequency, target_frequency, calibration_constant)\n",
    "            smiq.set_cw(frequency=target_frequency)\n",
    "            smiq.cw_on()\n",
    "            sleep(sleep_time)\n",
    "            counts[i] = counts[i] + counterlogic.countdata[0,-1]\n",
    "            smiq.off()"
   ]
  },
  {
   "cell_type": "code",
   "execution_count": 17,
   "metadata": {},
   "outputs": [
    {
     "data": {
      "text/plain": [
       "b''"
      ]
     },
     "execution_count": 17,
     "metadata": {},
     "output_type": "execute_result"
    }
   ],
   "source": [
    "#Sets current position to 0\n",
    "zero_position = 0\n",
    "ticcmd('--exit-safe-start', '--halt-and-set-position', str(zero_position))\n",
    "\n",
    "#Get current count parameters\n",
    "counterlogic.get_count_length()\n",
    "counterlogic.get_count_frequency()\n",
    "\n",
    "# Brute force way to control anything, pull gui levers.\n",
    "counter._mw.start_counter_Action.trigger()"
   ]
  },
  {
   "cell_type": "code",
   "execution_count": 5,
   "metadata": {},
   "outputs": [],
   "source": [
    "def set_cavity_frequency(offset, target_frequency, co_3, co_2, co_1, co_0):\n",
    "    frequency_y2_adjusted = int(np.rint(co_3*target_frequency**3 + co_2*target_frequency**2 + co_1*target_frequency + co_0 - offset))\n",
    "    set_position(frequency_y2_adjusted)"
   ]
  },
  {
   "cell_type": "code",
   "execution_count": 18,
   "metadata": {},
   "outputs": [],
   "source": [
    "initial_frequency = 2.687314\n",
    "initial_position = -5000\n",
    "target_frequency = 2.78\n",
    "\n",
    "co_3 = 69278.68\n",
    "co_2 = -609102.93\n",
    "co_1 = 1790504.24\n",
    "co_0 = - 1762367.85\n",
    "\n",
    "frequency_y1 = int(np.rint(co_3*initial_frequency**3 + co_2*initial_frequency**2 + co_1*initial_frequency + co_0))\n",
    "offset = frequency_y1 - initial_position"
   ]
  },
  {
   "cell_type": "code",
   "execution_count": 19,
   "metadata": {},
   "outputs": [
    {
     "name": "stdout",
     "output_type": "stream",
     "text": [
      "-3737\r"
     ]
    }
   ],
   "source": [
    "set_cavity_frequency(offset, target_frequency, co_3, co_2, co_1, co_0)"
   ]
  },
  {
   "cell_type": "code",
   "execution_count": 17,
   "metadata": {},
   "outputs": [
    {
     "name": "stdout",
     "output_type": "stream",
     "text": [
      "-5000\r"
     ]
    }
   ],
   "source": [
    "reset_position(initial_position)"
   ]
  },
  {
   "cell_type": "code",
   "execution_count": null,
   "metadata": {},
   "outputs": [],
   "source": []
  }
 ],
 "metadata": {
  "kernelspec": {
   "display_name": "Python 3",
   "language": "python",
   "name": "python3"
  },
  "language_info": {
   "codemirror_mode": {
    "name": "ipython",
    "version": 3
   },
   "file_extension": ".py",
   "mimetype": "text/x-python",
   "name": "python",
   "nbconvert_exporter": "python",
   "pygments_lexer": "ipython3",
   "version": "3.6.5"
  }
 },
 "nbformat": 4,
 "nbformat_minor": 2
}
