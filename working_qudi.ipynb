{
 "cells": [
  {
   "cell_type": "code",
   "execution_count": 2,
   "metadata": {
    "collapsed": true
   },
   "outputs": [],
   "source": [
    "import subprocess\n",
    "import yaml\n",
    "from time import sleep\n",
    "import os\n",
    "import numpy as np"
   ]
  },
  {
   "cell_type": "code",
   "execution_count": 3,
   "metadata": {
    "collapsed": true
   },
   "outputs": [],
   "source": [
    "def ticcmd(*args):\n",
    "    return subprocess.check_output(['ticcmd'] + list(args))\n",
    "\n",
    "def get_position():\n",
    "    status = yaml.load(ticcmd('-s', '--full'))\n",
    "    position = status['Current position']\n",
    "    return position\n",
    "\n",
    "def set_position(target_position):\n",
    "    position = get_position()\n",
    "    ticcmd('--resume', '--position', str(target_position))\n",
    "    while position != target_position:\n",
    "        position = get_position()\n",
    "        print(position, end=\"\\r\")\n",
    "        sleep(0.1)\n",
    "    #sleep(0.5)\n",
    "    #print(position)\n",
    "    \n",
    "def set_cavity_frequency(offset, target_frequency, co_3, co_2, co_1, co_0):\n",
    "    frequency_y2_adjusted = int(np.rint(co_3*target_frequency**3 + co_2*target_frequency**2 + co_1*target_frequency + co_0 - offset))\n",
    "    set_position(frequency_y2_adjusted)\n",
    "    \n",
    "def reset_position(initial_position):\n",
    "    set_position(initial_position - 200)\n",
    "    set_position(initial_position)\n",
    "    \n",
    "def set_to_zero():\n",
    "    zero_position = 0\n",
    "    ticcmd('--exit-safe-start', '--halt-and-set-position', str(zero_position))"
   ]
  },
  {
   "cell_type": "code",
   "execution_count": 51,
   "metadata": {
    "collapsed": true
   },
   "outputs": [],
   "source": [
    "initial_frequency = 2.722547\n",
    "initial_position = -4500\n",
    "frequencies = [initial_frequency, 2.82      , 2.82080537, 2.82161074, 2.82241611, 2.82322148,\n",
    "       2.82402685, 2.82483221, 2.82563758, 2.82644295, 2.82724832,\n",
    "       2.82805369, 2.82885906, 2.82966443, 2.8304698 , 2.83127517,\n",
    "       2.83208054, 2.83288591, 2.83369128, 2.83449664, 2.83530201,\n",
    "       2.83610738, 2.83691275, 2.83771812, 2.83852349, 2.83932886,\n",
    "       2.84013423, 2.8409396 , 2.84174497, 2.84255034, 2.8433557 ,\n",
    "       2.84416107, 2.84496644, 2.84577181, 2.84657718, 2.84738255,\n",
    "       2.84818792, 2.84899329, 2.84979866, 2.85060403, 2.8514094 ,\n",
    "       2.85221477, 2.85302013, 2.8538255 , 2.85463087, 2.85543624,\n",
    "       2.85624161, 2.85704698, 2.85785235, 2.85865772, 2.85946309,\n",
    "       2.86026846, 2.86107383, 2.86187919, 2.86268456, 2.86348993,\n",
    "       2.8642953 , 2.86510067, 2.86590604, 2.86671141, 2.86751678,\n",
    "       2.86832215, 2.86912752, 2.86993289, 2.87073826, 2.87154362,\n",
    "       2.87234899, 2.87315436, 2.87395973, 2.8747651 , 2.87557047,\n",
    "       2.87637584, 2.87718121, 2.87798658, 2.87879195, 2.87959732,\n",
    "       2.88040268, 2.88120805, 2.88201342, 2.88281879, 2.88362416,\n",
    "       2.88442953, 2.8852349 , 2.88604027, 2.88684564, 2.88765101,\n",
    "       2.88845638, 2.88926174, 2.89006711, 2.89087248, 2.89167785,\n",
    "       2.89248322, 2.89328859, 2.89409396, 2.89489933, 2.8957047 ,\n",
    "       2.89651007, 2.89731544, 2.89812081, 2.89892617, 2.89973154,\n",
    "       2.90053691, 2.90134228, 2.90214765, 2.90295302, 2.90375839,\n",
    "       2.90456376, 2.90536913, 2.9061745 , 2.90697987, 2.90778523,\n",
    "       2.9085906 , 2.90939597, 2.91020134, 2.91100671, 2.91181208,\n",
    "       2.91261745, 2.91342282, 2.91422819, 2.91503356, 2.91583893,\n",
    "       2.9166443 , 2.91744966, 2.91825503, 2.9190604 , 2.91986577,\n",
    "       2.92067114, 2.92147651, 2.92228188, 2.92308725, 2.92389262,\n",
    "       2.92469799, 2.92550336, 2.92630872, 2.92711409, 2.92791946,\n",
    "       2.92872483, 2.9295302 , 2.93033557, 2.93114094, 2.93194631,\n",
    "       2.93275168, 2.93355705, 2.93436242, 2.93516779, 2.93597315,\n",
    "       2.93677852, 2.93758389, 2.93838926, 2.93919463, 2.94]\n",
    "\n",
    "co_3 = 69278.68\n",
    "co_2 = -609102.93\n",
    "co_1 = 1790504.24\n",
    "co_0 = - 1762367.85\n",
    "\n",
    "frequency_y1 = int(np.rint(co_3*initial_frequency**3 + co_2*initial_frequency**2 + co_1*initial_frequency + co_0))\n",
    "offset = frequency_y1 - initial_position\n",
    "\n",
    "counts = [0] * len(frequencies)\n",
    "number_of_runs = 3\n",
    "integration_time = 5\n",
    "counter_frequency = 1/integration_time\n",
    "sleep_time = 6"
   ]
  },
  {
   "cell_type": "code",
   "execution_count": 21,
   "metadata": {},
   "outputs": [
    {
     "name": "stdout",
     "output_type": "stream",
     "text": [
      "-3092\r"
     ]
    }
   ],
   "source": [
    "set_cavity_frequency(offset, 2.87, co_3, co_2, co_1, co_0)"
   ]
  },
  {
   "cell_type": "code",
   "execution_count": 52,
   "metadata": {},
   "outputs": [
    {
     "name": "stdout",
     "output_type": "stream",
     "text": [
      "-4500\r"
     ]
    }
   ],
   "source": [
    "reset_position(initial_position)"
   ]
  },
  {
   "cell_type": "code",
   "execution_count": 6,
   "metadata": {},
   "outputs": [
    {
     "data": {
      "text/plain": [
       "0"
      ]
     },
     "execution_count": 6,
     "metadata": {},
     "output_type": "execute_result"
    }
   ],
   "source": [
    "counterlogic.set_count_length(300)\n",
    "counterlogic.set_count_frequency(counter_frequency)\n",
    "counterlogic.startCount()\n",
    "smiq.cw_on()"
   ]
  },
  {
   "cell_type": "code",
   "execution_count": null,
   "metadata": {
    "collapsed": true
   },
   "outputs": [],
   "source": [
    "smiq.set_cw(2.87e9)"
   ]
  },
  {
   "cell_type": "code",
   "execution_count": 53,
   "metadata": {},
   "outputs": [
    {
     "data": {
      "text/plain": [
       "0"
      ]
     },
     "execution_count": 53,
     "metadata": {},
     "output_type": "execute_result"
    }
   ],
   "source": [
    "smiq.cw_on()"
   ]
  },
  {
   "cell_type": "code",
   "execution_count": 54,
   "metadata": {},
   "outputs": [
    {
     "name": "stdout",
     "output_type": "stream",
     "text": [
      "[8947120.600000001, 8945615.6, 8927381.200000001, 8947434.8, 8936336.0, 8944060.8, 8959137.0, 8952016.200000001, 8968891.0, 8951503.600000001, 8974365.2, 8943812.4, 8950451.0, 8948488.600000001, 8957096.600000001, 8961423.4, 8961946.4, 8951054.4, 8962767.200000001, 8970406.8, 8969492.8, 8953356.600000001, 8930776.0, 8940517.2, 8966621.0, 8957541.2, 8933915.2, 8947747.600000001, 8944272.0, 8935998.200000001, 8941756.6, 8942088.200000001, 8939695.200000001, 8955189.8, 8970072.0, 8957134.0, 8980291.600000001, 8935408.4, 8944679.2, 8964360.8, 8974427.200000001, 8966875.200000001, 8935055.6, 8944481.8, 8958624.8, 8930645.8, 8952390.600000001, 8933437.600000001, 8933905.4, 8955655.0, 8964182.600000001, 8954458.4, 8951710.4, 8967301.4, 8950351.0, 8943039.4, 8962745.2, 8948323.8, 8954200.8, 8975109.4, 8959144.4, 8944752.600000001, 8974348.0, 8957060.0, 8952291.200000001, 8967587.8, 8963047.8, 8973799.4, 8958826.600000001, 8955736.6, 8963770.8, 8959704.0, 8953426.8, 8976559.200000001, 8964730.2, 8952161.0, 8980393.600000001, 8963021.2, 8970379.8, 8984872.200000001, 8960014.8, 8997042.8, 8972131.200000001, 8990609.0, 8982824.4, 8960862.6, 8982824.000000002, 8988221.0, 8946933.8, 8987876.0, 8988828.8, 8998596.8, 8997504.8, 8993014.200000001, 8975067.4, 8996480.2, 8973414.2, 8979755.4, 8983819.4, 8980151.400000002, 8982834.200000001, 9001179.4, 8986397.2, 8996744.4, 8988675.8, 8999027.200000001, 8999678.4, 8994410.4, 8998761.600000001, 8975452.4, 9006961.200000001, 8988429.8, 9002786.200000001, 8983387.2, 8996369.600000001, 8992443.6, 9010212.600000001, 8980112.600000001, 8991566.0, 8977728.000000002, 8980986.8, 8990700.0, 8994281.4, 8995723.600000001, 9010810.8, 8994040.600000001, 8992678.0, 8975855.0, 8973105.600000001, 8978302.600000001, 8980688.8, 8968062.2, 8974246.4, 8980018.4, 8987701.0, 8976344.000000002, 8990312.8, 8973016.200000001, 8981853.8, 8961519.6, 8986548.4, 8995170.6, 8983316.4, 8964829.4, 8976513.0, 8983019.8, 8962255.4, 8960421.200000001, 8999400.0, 8989280.2, 8994300.2]\n",
      "[2.722547, 2.82, 2.82080537, 2.82161074, 2.82241611, 2.82322148, 2.82402685, 2.82483221, 2.82563758, 2.82644295, 2.82724832, 2.82805369, 2.82885906, 2.82966443, 2.8304698, 2.83127517, 2.83208054, 2.83288591, 2.83369128, 2.83449664, 2.83530201, 2.83610738, 2.83691275, 2.83771812, 2.83852349, 2.83932886, 2.84013423, 2.8409396, 2.84174497, 2.84255034, 2.8433557, 2.84416107, 2.84496644, 2.84577181, 2.84657718, 2.84738255, 2.84818792, 2.84899329, 2.84979866, 2.85060403, 2.8514094, 2.85221477, 2.85302013, 2.8538255, 2.85463087, 2.85543624, 2.85624161, 2.85704698, 2.85785235, 2.85865772, 2.85946309, 2.86026846, 2.86107383, 2.86187919, 2.86268456, 2.86348993, 2.8642953, 2.86510067, 2.86590604, 2.86671141, 2.86751678, 2.86832215, 2.86912752, 2.86993289, 2.87073826, 2.87154362, 2.87234899, 2.87315436, 2.87395973, 2.8747651, 2.87557047, 2.87637584, 2.87718121, 2.87798658, 2.87879195, 2.87959732, 2.88040268, 2.88120805, 2.88201342, 2.88281879, 2.88362416, 2.88442953, 2.8852349, 2.88604027, 2.88684564, 2.88765101, 2.88845638, 2.88926174, 2.89006711, 2.89087248, 2.89167785, 2.89248322, 2.89328859, 2.89409396, 2.89489933, 2.8957047, 2.89651007, 2.89731544, 2.89812081, 2.89892617, 2.89973154, 2.90053691, 2.90134228, 2.90214765, 2.90295302, 2.90375839, 2.90456376, 2.90536913, 2.9061745, 2.90697987, 2.90778523, 2.9085906, 2.90939597, 2.91020134, 2.91100671, 2.91181208, 2.91261745, 2.91342282, 2.91422819, 2.91503356, 2.91583893, 2.9166443, 2.91744966, 2.91825503, 2.9190604, 2.91986577, 2.92067114, 2.92147651, 2.92228188, 2.92308725, 2.92389262, 2.92469799, 2.92550336, 2.92630872, 2.92711409, 2.92791946, 2.92872483, 2.9295302, 2.93033557, 2.93114094, 2.93194631, 2.93275168, 2.93355705, 2.93436242, 2.93516779, 2.93597315, 2.93677852, 2.93758389, 2.93838926, 2.93919463, 2.94]\n"
     ]
    }
   ],
   "source": [
    "for i in range(number_of_runs):\n",
    "    for i in range(len(frequencies)):\n",
    "        if i == 0:\n",
    "            target_frequency = frequencies[i]\n",
    "            smiq.set_cw(frequency=target_frequency*1e9)\n",
    "            smiq.cw_on()\n",
    "            sleep(sleep_time)\n",
    "            counts[i] = counts[i] + counterlogic.countdata[0,-1]\n",
    "\n",
    "        if i != 0:\n",
    "            target_frequency = frequencies[i]\n",
    "            #set_cavity_frequency(offset, target_frequency, co_3, co_2, co_1, co_0)\n",
    "            smiq.set_cw(frequency=target_frequency*1e9)\n",
    "            smiq.cw_on()\n",
    "            sleep(sleep_time)\n",
    "            counts[i] = counts[i] + counterlogic.countdata[0,-1]\n",
    "            \n",
    "    reset_position(initial_position)\n",
    "            \n",
    "print(counts)\n",
    "print(frequencies)"
   ]
  },
  {
   "cell_type": "code",
   "execution_count": null,
   "metadata": {
    "collapsed": true
   },
   "outputs": [],
   "source": [
    "#Sets current position to 0\n",
    "zero_position = 0\n",
    "ticcmd('--exit-safe-start', '--halt-and-set-position', str(zero_position))\n",
    "\n",
    "#Get current count parameters\n",
    "counterlogic.get_count_length()\n",
    "counterlogic.get_count_frequency()\n",
    "\n",
    "# Brute force way to control anything, pull gui levers.\n",
    "counter._mw.start_counter_Action.trigger()"
   ]
  },
  {
   "cell_type": "code",
   "execution_count": 14,
   "metadata": {},
   "outputs": [
    {
     "data": {
      "text/plain": [
       "-3500"
      ]
     },
     "execution_count": 14,
     "metadata": {},
     "output_type": "execute_result"
    }
   ],
   "source": [
    "get_position()"
   ]
  },
  {
   "cell_type": "code",
   "execution_count": 13,
   "metadata": {},
   "outputs": [
    {
     "name": "stdout",
     "output_type": "stream",
     "text": [
      "-3500\r"
     ]
    }
   ],
   "source": [
    "set_position(-3500)"
   ]
  },
  {
   "cell_type": "code",
   "execution_count": 31,
   "metadata": {
    "collapsed": true
   },
   "outputs": [],
   "source": [
    "count = 4"
   ]
  },
  {
   "cell_type": "code",
   "execution_count": 32,
   "metadata": {},
   "outputs": [
    {
     "data": {
      "text/plain": [
       "4"
      ]
     },
     "execution_count": 32,
     "metadata": {},
     "output_type": "execute_result"
    }
   ],
   "source": [
    "count"
   ]
  },
  {
   "cell_type": "code",
   "execution_count": 49,
   "metadata": {},
   "outputs": [
    {
     "name": "stdout",
     "output_type": "stream",
     "text": [
      "The number is 21        \n"
     ]
    }
   ],
   "source": [
    "target = get_position() + 100\n",
    "count = count + 1\n",
    "\n",
    "set_position(target)\n",
    "print(\"The number is\", count, \"       \")"
   ]
  },
  {
   "cell_type": "code",
   "execution_count": null,
   "metadata": {
    "collapsed": true
   },
   "outputs": [],
   "source": []
  },
  {
   "cell_type": "code",
   "execution_count": 8,
   "metadata": {
    "collapsed": true
   },
   "outputs": [],
   "source": [
    "set_to_zero()"
   ]
  },
  {
   "cell_type": "code",
   "execution_count": null,
   "metadata": {
    "collapsed": true
   },
   "outputs": [],
   "source": [
    "reset_position(-4800)"
   ]
  },
  {
   "cell_type": "code",
   "execution_count": 55,
   "metadata": {},
   "outputs": [
    {
     "data": {
      "text/plain": [
       "0"
      ]
     },
     "execution_count": 55,
     "metadata": {},
     "output_type": "execute_result"
    }
   ],
   "source": [
    "smiq.off()\n"
   ]
  },
  {
   "cell_type": "code",
   "execution_count": 9,
   "metadata": {},
   "outputs": [
    {
     "data": {
      "text/plain": [
       "array([2.82      , 2.82080537, 2.82161074, 2.82241611, 2.82322148,\n",
       "       2.82402685, 2.82483221, 2.82563758, 2.82644295, 2.82724832,\n",
       "       2.82805369, 2.82885906, 2.82966443, 2.8304698 , 2.83127517,\n",
       "       2.83208054, 2.83288591, 2.83369128, 2.83449664, 2.83530201,\n",
       "       2.83610738, 2.83691275, 2.83771812, 2.83852349, 2.83932886,\n",
       "       2.84013423, 2.8409396 , 2.84174497, 2.84255034, 2.8433557 ,\n",
       "       2.84416107, 2.84496644, 2.84577181, 2.84657718, 2.84738255,\n",
       "       2.84818792, 2.84899329, 2.84979866, 2.85060403, 2.8514094 ,\n",
       "       2.85221477, 2.85302013, 2.8538255 , 2.85463087, 2.85543624,\n",
       "       2.85624161, 2.85704698, 2.85785235, 2.85865772, 2.85946309,\n",
       "       2.86026846, 2.86107383, 2.86187919, 2.86268456, 2.86348993,\n",
       "       2.8642953 , 2.86510067, 2.86590604, 2.86671141, 2.86751678,\n",
       "       2.86832215, 2.86912752, 2.86993289, 2.87073826, 2.87154362,\n",
       "       2.87234899, 2.87315436, 2.87395973, 2.8747651 , 2.87557047,\n",
       "       2.87637584, 2.87718121, 2.87798658, 2.87879195, 2.87959732,\n",
       "       2.88040268, 2.88120805, 2.88201342, 2.88281879, 2.88362416,\n",
       "       2.88442953, 2.8852349 , 2.88604027, 2.88684564, 2.88765101,\n",
       "       2.88845638, 2.88926174, 2.89006711, 2.89087248, 2.89167785,\n",
       "       2.89248322, 2.89328859, 2.89409396, 2.89489933, 2.8957047 ,\n",
       "       2.89651007, 2.89731544, 2.89812081, 2.89892617, 2.89973154,\n",
       "       2.90053691, 2.90134228, 2.90214765, 2.90295302, 2.90375839,\n",
       "       2.90456376, 2.90536913, 2.9061745 , 2.90697987, 2.90778523,\n",
       "       2.9085906 , 2.90939597, 2.91020134, 2.91100671, 2.91181208,\n",
       "       2.91261745, 2.91342282, 2.91422819, 2.91503356, 2.91583893,\n",
       "       2.9166443 , 2.91744966, 2.91825503, 2.9190604 , 2.91986577,\n",
       "       2.92067114, 2.92147651, 2.92228188, 2.92308725, 2.92389262,\n",
       "       2.92469799, 2.92550336, 2.92630872, 2.92711409, 2.92791946,\n",
       "       2.92872483, 2.9295302 , 2.93033557, 2.93114094, 2.93194631,\n",
       "       2.93275168, 2.93355705, 2.93436242, 2.93516779, 2.93597315,\n",
       "       2.93677852, 2.93758389, 2.93838926, 2.93919463, 2.94      ])"
      ]
     },
     "execution_count": 9,
     "metadata": {},
     "output_type": "execute_result"
    }
   ],
   "source": [
    "np.linspace(2.82, 2.94, 150)"
   ]
  },
  {
   "cell_type": "code",
   "execution_count": 9,
   "metadata": {},
   "outputs": [
    {
     "data": {
      "text/plain": [
       "922329.0"
      ]
     },
     "execution_count": 9,
     "metadata": {},
     "output_type": "execute_result"
    }
   ],
   "source": [
    "counterlogic.countdata[0,-1]"
   ]
  },
  {
   "cell_type": "code",
   "execution_count": null,
   "metadata": {
    "collapsed": true
   },
   "outputs": [],
   "source": []
  }
 ],
 "metadata": {
  "kernelspec": {
   "display_name": "Qudi",
   "language": "python",
   "name": "qudi"
  },
  "language_info": {
   "codemirror_mode": {
    "name": "ipython",
    "version": "3.6.5"
   },
   "file_extension": ".py",
   "mimetype": "text/x-python",
   "name": "python",
   "nbconvert_exporter": "python",
   "pygments_lexer": "ipython3",
   "version": "3.6.5"
  }
 },
 "nbformat": 4,
 "nbformat_minor": 2
}
