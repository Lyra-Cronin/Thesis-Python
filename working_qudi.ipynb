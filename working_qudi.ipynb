{
 "cells": [
  {
   "cell_type": "code",
   "execution_count": 1,
   "metadata": {
    "collapsed": true
   },
   "outputs": [],
   "source": [
    "import subprocess\n",
    "import yaml\n",
    "from time import sleep\n",
    "import os\n",
    "import numpy as np"
   ]
  },
  {
   "cell_type": "code",
   "execution_count": 2,
   "metadata": {
    "collapsed": true
   },
   "outputs": [],
   "source": [
    "def ticcmd(*args):\n",
    "    return subprocess.check_output(['ticcmd'] + list(args))\n",
    "\n",
    "def get_position():\n",
    "    status = yaml.load(ticcmd('-s', '--full'))\n",
    "    position = status['Current position']\n",
    "    return position\n",
    "\n",
    "def set_position(target_position):\n",
    "    position = get_position()\n",
    "    ticcmd('--resume', '--position', str(target_position))\n",
    "    while position != target_position:\n",
    "        position = get_position()\n",
    "        print(position, end=\"\\r\")\n",
    "        sleep(0.1)\n",
    "    #sleep(0.5)\n",
    "    #print(position)\n",
    "    \n",
    "def set_cavity_frequency(offset, target_frequency, co_3, co_2, co_1, co_0):\n",
    "    frequency_y2_adjusted = int(np.rint(co_3*target_frequency**3 + co_2*target_frequency**2 + co_1*target_frequency + co_0 - offset))\n",
    "    set_position(frequency_y2_adjusted)\n",
    "    \n",
    "def reset_position(initial_position):\n",
    "    set_position(initial_position - 200)\n",
    "    set_position(initial_position)\n",
    "    \n",
    "def set_to_zero():\n",
    "    zero_position = 0\n",
    "    ticcmd('--exit-safe-start', '--halt-and-set-position', str(zero_position))"
   ]
  },
  {
   "cell_type": "code",
   "execution_count": 3,
   "metadata": {
    "collapsed": true
   },
   "outputs": [],
   "source": [
    "initial_frequency = 2.818768\n",
    "initial_position = -3435\n",
    "frequencies = [initial_frequency, 2.82      , 2.82244898, 2.82489796, 2.82734694, 2.82979592,\n",
    "       2.8322449 , 2.83469388, 2.83714286, 2.83959184, 2.84204082,\n",
    "       2.8444898 , 2.84693878, 2.84938776, 2.85183673, 2.85428571,\n",
    "       2.85673469, 2.85918367, 2.86163265, 2.86408163, 2.86653061,\n",
    "       2.86897959, 2.87142857, 2.87387755, 2.87632653, 2.87877551,\n",
    "       2.88122449, 2.88367347, 2.88612245, 2.88857143, 2.89102041,\n",
    "       2.89346939, 2.89591837, 2.89836735, 2.90081633, 2.90326531,\n",
    "       2.90571429, 2.90816327, 2.91061224, 2.91306122, 2.9155102 ,\n",
    "       2.91795918, 2.92040816, 2.92285714, 2.92530612, 2.9277551 ,\n",
    "       2.93020408, 2.93265306, 2.93510204, 2.93755102, 2.94]\n",
    "\n",
    "co_3 = 69278.68\n",
    "co_2 = -609102.93\n",
    "co_1 = 1790504.24\n",
    "co_0 = - 1762367.85\n",
    "\n",
    "frequency_y1 = int(np.rint(co_3*initial_frequency**3 + co_2*initial_frequency**2 + co_1*initial_frequency + co_0))\n",
    "offset = frequency_y1 - initial_position\n",
    "\n",
    "counts = [0] * len(frequencies)\n",
    "number_of_runs = 1\n",
    "integration_time = 1\n",
    "counter_frequency = 1/integration_time\n",
    "sleep_time = 3"
   ]
  },
  {
   "cell_type": "code",
   "execution_count": 8,
   "metadata": {},
   "outputs": [
    {
     "name": "stdout",
     "output_type": "stream",
     "text": [
      "-3076\r"
     ]
    }
   ],
   "source": [
    "set_cavity_frequency(offset, 2.87, co_3, co_2, co_1, co_0)"
   ]
  },
  {
   "cell_type": "code",
   "execution_count": 4,
   "metadata": {},
   "outputs": [
    {
     "name": "stdout",
     "output_type": "stream",
     "text": [
      "-3435\r"
     ]
    }
   ],
   "source": [
    "reset_position(initial_position)"
   ]
  },
  {
   "cell_type": "code",
   "execution_count": 7,
   "metadata": {},
   "outputs": [
    {
     "data": {
      "text/plain": [
       "0"
      ]
     },
     "execution_count": 7,
     "metadata": {},
     "output_type": "execute_result"
    }
   ],
   "source": [
    "counterlogic.set_count_length(300)\n",
    "counterlogic.set_count_frequency(counter_frequency)\n",
    "counterlogic.startCount()\n",
    "smiq.cw_on()"
   ]
  },
  {
   "cell_type": "code",
   "execution_count": null,
   "metadata": {
    "collapsed": true
   },
   "outputs": [],
   "source": [
    "smiq.set_cw(2.87e9)"
   ]
  },
  {
   "cell_type": "code",
   "execution_count": null,
   "metadata": {
    "collapsed": true
   },
   "outputs": [],
   "source": [
    "smiq.cw_on()"
   ]
  },
  {
   "cell_type": "code",
   "execution_count": 11,
   "metadata": {},
   "outputs": [
    {
     "name": "stdout",
     "output_type": "stream",
     "text": [
      "[1834803.0, 1828778.0, 1835367.0, 1831712.0, 1833854.0, 1827722.0, 1830536.0, 1829224.0, 1834181.0, 1835395.0, 1830760.0, 1839245.0, 1841129.0, 1831186.0, 1831497.0, 1831118.0, 1828112.0, 1821535.0, 1825910.0, 1810413.0, 1816766.0, 1805873.0, 1821348.0, 1813600.0, 1815238.0, 1809309.0, 1820460.0, 1821740.0, 1830121.0, 1834066.0, 1832452.0, 1830302.0, 1831510.0, 1830785.0, 1827515.0, 1825446.0, 1832355.0, 1841718.0, 1828323.0, 1832406.0, 1831316.0, 1828455.0, 1823091.0, 1825356.0, 1827251.0, 1828649.0, 1824948.0, 1824678.0, 1821633.0, 1816527.0, 1823471.0]\n",
      "[2.818768, 2.82, 2.82244898, 2.82489796, 2.82734694, 2.82979592, 2.8322449, 2.83469388, 2.83714286, 2.83959184, 2.84204082, 2.8444898, 2.84693878, 2.84938776, 2.85183673, 2.85428571, 2.85673469, 2.85918367, 2.86163265, 2.86408163, 2.86653061, 2.86897959, 2.87142857, 2.87387755, 2.87632653, 2.87877551, 2.88122449, 2.88367347, 2.88612245, 2.88857143, 2.89102041, 2.89346939, 2.89591837, 2.89836735, 2.90081633, 2.90326531, 2.90571429, 2.90816327, 2.91061224, 2.91306122, 2.9155102, 2.91795918, 2.92040816, 2.92285714, 2.92530612, 2.9277551, 2.93020408, 2.93265306, 2.93510204, 2.93755102, 2.94]\n"
     ]
    }
   ],
   "source": [
    "for i in range(number_of_runs):\n",
    "    for i in range(len(frequencies)):\n",
    "        if i == 0:\n",
    "            target_frequency = frequencies[i]\n",
    "            smiq.set_cw(frequency=target_frequency*1e9)\n",
    "            smiq.cw_on()\n",
    "            sleep(sleep_time)\n",
    "            counts[i] = counts[i] + counterlogic.countdata[0,-1]\n",
    "\n",
    "        if i != 0:\n",
    "            target_frequency = frequencies[i]\n",
    "            set_cavity_frequency(offset, target_frequency, co_3, co_2, co_1, co_0)\n",
    "            smiq.set_cw(frequency=target_frequency*1e9)\n",
    "            smiq.cw_on()\n",
    "            sleep(sleep_time)\n",
    "            counts[i] = counts[i] + counterlogic.countdata[0,-1]\n",
    "            \n",
    "    reset_position(initial_position)\n",
    "            \n",
    "print(counts)\n",
    "print(frequencies)"
   ]
  },
  {
   "cell_type": "code",
   "execution_count": null,
   "metadata": {
    "collapsed": true
   },
   "outputs": [],
   "source": [
    "#Sets current position to 0\n",
    "zero_position = 0\n",
    "ticcmd('--exit-safe-start', '--halt-and-set-position', str(zero_position))\n",
    "\n",
    "#Get current count parameters\n",
    "counterlogic.get_count_length()\n",
    "counterlogic.get_count_frequency()\n",
    "\n",
    "# Brute force way to control anything, pull gui levers.\n",
    "counter._mw.start_counter_Action.trigger()"
   ]
  },
  {
   "cell_type": "code",
   "execution_count": 6,
   "metadata": {},
   "outputs": [
    {
     "data": {
      "text/plain": [
       "-3435"
      ]
     },
     "execution_count": 6,
     "metadata": {},
     "output_type": "execute_result"
    }
   ],
   "source": [
    "get_position()"
   ]
  },
  {
   "cell_type": "code",
   "execution_count": null,
   "metadata": {
    "collapsed": true
   },
   "outputs": [],
   "source": [
    "set_position(-1940)"
   ]
  },
  {
   "cell_type": "code",
   "execution_count": null,
   "metadata": {
    "collapsed": true
   },
   "outputs": [],
   "source": [
    "set_to_zero()"
   ]
  },
  {
   "cell_type": "code",
   "execution_count": null,
   "metadata": {
    "collapsed": true
   },
   "outputs": [],
   "source": [
    "reset_position(-4800)"
   ]
  },
  {
   "cell_type": "code",
   "execution_count": null,
   "metadata": {
    "collapsed": true
   },
   "outputs": [],
   "source": [
    "smiq.off()\n"
   ]
  },
  {
   "cell_type": "code",
   "execution_count": 6,
   "metadata": {},
   "outputs": [
    {
     "data": {
      "text/plain": [
       "array([2.82      , 2.82244898, 2.82489796, 2.82734694, 2.82979592,\n",
       "       2.8322449 , 2.83469388, 2.83714286, 2.83959184, 2.84204082,\n",
       "       2.8444898 , 2.84693878, 2.84938776, 2.85183673, 2.85428571,\n",
       "       2.85673469, 2.85918367, 2.86163265, 2.86408163, 2.86653061,\n",
       "       2.86897959, 2.87142857, 2.87387755, 2.87632653, 2.87877551,\n",
       "       2.88122449, 2.88367347, 2.88612245, 2.88857143, 2.89102041,\n",
       "       2.89346939, 2.89591837, 2.89836735, 2.90081633, 2.90326531,\n",
       "       2.90571429, 2.90816327, 2.91061224, 2.91306122, 2.9155102 ,\n",
       "       2.91795918, 2.92040816, 2.92285714, 2.92530612, 2.9277551 ,\n",
       "       2.93020408, 2.93265306, 2.93510204, 2.93755102, 2.94      ])"
      ]
     },
     "execution_count": 6,
     "metadata": {},
     "output_type": "execute_result"
    }
   ],
   "source": [
    "np.linspace(2.82, 2.94, 50)"
   ]
  },
  {
   "cell_type": "code",
   "execution_count": 9,
   "metadata": {},
   "outputs": [
    {
     "data": {
      "text/plain": [
       "922329.0"
      ]
     },
     "execution_count": 9,
     "metadata": {},
     "output_type": "execute_result"
    }
   ],
   "source": [
    "counterlogic.countdata[0,-1]"
   ]
  },
  {
   "cell_type": "code",
   "execution_count": null,
   "metadata": {
    "collapsed": true
   },
   "outputs": [],
   "source": []
  }
 ],
 "metadata": {
  "kernelspec": {
   "display_name": "Qudi",
   "language": "python",
   "name": "qudi"
  },
  "language_info": {
   "codemirror_mode": {
    "name": "ipython",
    "version": "3.6.5"
   },
   "file_extension": ".py",
   "mimetype": "text/x-python",
   "name": "python",
   "nbconvert_exporter": "python",
   "pygments_lexer": "ipython3",
   "version": "3.6.5"
  }
 },
 "nbformat": 4,
 "nbformat_minor": 2
}
