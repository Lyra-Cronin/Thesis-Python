{
 "cells": [
  {
   "cell_type": "code",
   "execution_count": 1,
   "metadata": {
    "collapsed": true
   },
   "outputs": [],
   "source": [
    "import subprocess\n",
    "import yaml\n",
    "from time import sleep\n",
    "import os\n",
    "import numpy as np"
   ]
  },
  {
   "cell_type": "code",
   "execution_count": 2,
   "metadata": {
    "collapsed": true
   },
   "outputs": [],
   "source": [
    "def ticcmd(*args):\n",
    "    return subprocess.check_output(['ticcmd'] + list(args))\n",
    "\n",
    "def get_position():\n",
    "    status = yaml.load(ticcmd('-s', '--full'))\n",
    "    position = status['Current position']\n",
    "    return position\n",
    "\n",
    "def set_position(target_position):\n",
    "    position = get_position()\n",
    "    ticcmd('--resume', '--position', str(target_position))\n",
    "    while position != target_position:\n",
    "        position = get_position()\n",
    "        print(position, end=\"\\r\")\n",
    "        sleep(0.1)\n",
    "    #sleep(0.5)\n",
    "    #print(position)\n",
    "    \n",
    "def set_cavity_frequency(offset, target_frequency, co_3, co_2, co_1, co_0):\n",
    "    frequency_y2_adjusted = int(np.rint(co_3*target_frequency**3 + co_2*target_frequency**2 + co_1*target_frequency + co_0 - offset))\n",
    "    set_position(frequency_y2_adjusted)\n",
    "    \n",
    "def reset_position(initial_position):\n",
    "    set_position(initial_position - 200)\n",
    "    set_position(initial_position)\n",
    "    \n",
    "def set_to_zero():\n",
    "    zero_position = 0\n",
    "    ticcmd('--exit-safe-start', '--halt-and-set-position', str(zero_position))"
   ]
  },
  {
   "cell_type": "code",
   "execution_count": 22,
   "metadata": {
    "collapsed": true
   },
   "outputs": [],
   "source": [
    "initial_frequency = 2.818050\n",
    "initial_position = -400\n",
    "frequencies = [initial_frequency, 2.82      , 2.82067114, 2.82134228, 2.82201342, 2.82268456,\n",
    "       2.8233557 , 2.82402685, 2.82469799, 2.82536913, 2.82604027,\n",
    "       2.82671141, 2.82738255, 2.82805369, 2.82872483, 2.82939597,\n",
    "       2.83006711, 2.83073826, 2.8314094 , 2.83208054, 2.83275168,\n",
    "       2.83342282, 2.83409396, 2.8347651 , 2.83543624, 2.83610738,\n",
    "       2.83677852, 2.83744966, 2.83812081, 2.83879195, 2.83946309,\n",
    "       2.84013423, 2.84080537, 2.84147651, 2.84214765, 2.84281879,\n",
    "       2.84348993, 2.84416107, 2.84483221, 2.84550336, 2.8461745 ,\n",
    "       2.84684564, 2.84751678, 2.84818792, 2.84885906, 2.8495302 ,\n",
    "       2.85020134, 2.85087248, 2.85154362, 2.85221477, 2.85288591,\n",
    "       2.85355705, 2.85422819, 2.85489933, 2.85557047, 2.85624161,\n",
    "       2.85691275, 2.85758389, 2.85825503, 2.85892617, 2.85959732,\n",
    "       2.86026846, 2.8609396 , 2.86161074, 2.86228188, 2.86295302,\n",
    "       2.86362416, 2.8642953 , 2.86496644, 2.86563758, 2.86630872,\n",
    "       2.86697987, 2.86765101, 2.86832215, 2.86899329, 2.86966443,\n",
    "       2.87033557, 2.87100671, 2.87167785, 2.87234899, 2.87302013,\n",
    "       2.87369128, 2.87436242, 2.87503356, 2.8757047 , 2.87637584,\n",
    "       2.87704698, 2.87771812, 2.87838926, 2.8790604 , 2.87973154,\n",
    "       2.88040268, 2.88107383, 2.88174497, 2.88241611, 2.88308725,\n",
    "       2.88375839, 2.88442953, 2.88510067, 2.88577181, 2.88644295,\n",
    "       2.88711409, 2.88778523, 2.88845638, 2.88912752, 2.88979866,\n",
    "       2.8904698 , 2.89114094, 2.89181208, 2.89248322, 2.89315436,\n",
    "       2.8938255 , 2.89449664, 2.89516779, 2.89583893, 2.89651007,\n",
    "       2.89718121, 2.89785235, 2.89852349, 2.89919463, 2.89986577,\n",
    "       2.90053691, 2.90120805, 2.90187919, 2.90255034, 2.90322148,\n",
    "       2.90389262, 2.90456376, 2.9052349 , 2.90590604, 2.90657718,\n",
    "       2.90724832, 2.90791946, 2.9085906 , 2.90926174, 2.90993289,\n",
    "       2.91060403, 2.91127517, 2.91194631, 2.91261745, 2.91328859,\n",
    "       2.91395973, 2.91463087, 2.91530201, 2.91597315, 2.9166443 ,\n",
    "       2.91731544, 2.91798658, 2.91865772, 2.91932886, 2.92]\n",
    "\n",
    "co_3 = 69278.68\n",
    "co_2 = -609102.93\n",
    "co_1 = 1790504.24\n",
    "co_0 = - 1762367.85\n",
    "\n",
    "frequency_y1 = int(np.rint(co_3*initial_frequency**3 + co_2*initial_frequency**2 + co_1*initial_frequency + co_0))\n",
    "offset = frequency_y1 - initial_position\n",
    "\n",
    "counts = [0] * len(frequencies)\n",
    "number_of_runs = 5\n",
    "integration_time = 1\n",
    "counter_frequency = 1/integration_time\n",
    "sleep_time = 2"
   ]
  },
  {
   "cell_type": "code",
   "execution_count": 13,
   "metadata": {},
   "outputs": [
    {
     "name": "stdout",
     "output_type": "stream",
     "text": [
      "-354\r"
     ]
    }
   ],
   "source": [
    "set_cavity_frequency(offset, 2.87, co_3, co_2, co_1, co_0)"
   ]
  },
  {
   "cell_type": "code",
   "execution_count": 19,
   "metadata": {},
   "outputs": [
    {
     "name": "stdout",
     "output_type": "stream",
     "text": [
      "-400\r"
     ]
    }
   ],
   "source": [
    "reset_position(initial_position)"
   ]
  },
  {
   "cell_type": "code",
   "execution_count": 20,
   "metadata": {},
   "outputs": [
    {
     "data": {
      "text/plain": [
       "0"
      ]
     },
     "execution_count": 20,
     "metadata": {},
     "output_type": "execute_result"
    }
   ],
   "source": [
    "counterlogic.set_count_length(300)\n",
    "counterlogic.set_count_frequency(counter_frequency)\n",
    "counterlogic.startCount()\n",
    "smiq.cw_on()"
   ]
  },
  {
   "cell_type": "code",
   "execution_count": 10,
   "metadata": {},
   "outputs": [
    {
     "data": {
      "text/plain": [
       "(2880000000.0, -10.0, 'cw')"
      ]
     },
     "execution_count": 10,
     "metadata": {},
     "output_type": "execute_result"
    }
   ],
   "source": [
    "smiq.set_cw(2.88e9, -10)"
   ]
  },
  {
   "cell_type": "code",
   "execution_count": 21,
   "metadata": {},
   "outputs": [
    {
     "data": {
      "text/plain": [
       "0"
      ]
     },
     "execution_count": 21,
     "metadata": {},
     "output_type": "execute_result"
    }
   ],
   "source": [
    "smiq.cw_on()"
   ]
  },
  {
   "cell_type": "code",
   "execution_count": null,
   "metadata": {},
   "outputs": [
    {
     "name": "stdout",
     "output_type": "stream",
     "text": [
      "0420\r"
     ]
    }
   ],
   "source": [
    "for i in range(number_of_runs):\n",
    "    for i in range(len(frequencies)):\n",
    "        if i == 0:\n",
    "            target_frequency = frequencies[i]\n",
    "            smiq.set_cw(frequency=target_frequency*1e9)\n",
    "            smiq.cw_on()\n",
    "            sleep(sleep_time)\n",
    "            counts[i] = counts[i] + counterlogic.countdata[0,-1]\n",
    "\n",
    "        if i != 0:\n",
    "            target_frequency = frequencies[i]\n",
    "            set_cavity_frequency(offset, target_frequency, co_3, co_2, co_1, co_0)\n",
    "            smiq.set_cw(frequency=target_frequency*1e9)\n",
    "            smiq.cw_on()\n",
    "            sleep(sleep_time)\n",
    "            counts[i] = counts[i] + counterlogic.countdata[0,-1]\n",
    "            \n",
    "    reset_position(initial_position)\n",
    "            \n",
    "print(counts)\n",
    "print(frequencies)"
   ]
  },
  {
   "cell_type": "code",
   "execution_count": null,
   "metadata": {
    "collapsed": true
   },
   "outputs": [],
   "source": [
    "#Sets current position to 0\n",
    "zero_position = 0\n",
    "ticcmd('--exit-safe-start', '--halt-and-set-position', str(zero_position))\n",
    "\n",
    "#Get current count parameters\n",
    "counterlogic.get_count_length()\n",
    "counterlogic.get_count_frequency()\n",
    "\n",
    "# Brute force way to control anything, pull gui levers.\n",
    "counter._mw.start_counter_Action.trigger()"
   ]
  },
  {
   "cell_type": "code",
   "execution_count": 3,
   "metadata": {},
   "outputs": [
    {
     "data": {
      "text/plain": [
       "-500"
      ]
     },
     "execution_count": 3,
     "metadata": {},
     "output_type": "execute_result"
    }
   ],
   "source": [
    "get_position()"
   ]
  },
  {
   "cell_type": "code",
   "execution_count": 5,
   "metadata": {},
   "outputs": [
    {
     "name": "stdout",
     "output_type": "stream",
     "text": [
      "-400\r"
     ]
    }
   ],
   "source": [
    "set_position(-400)"
   ]
  },
  {
   "cell_type": "code",
   "execution_count": 31,
   "metadata": {
    "collapsed": true
   },
   "outputs": [],
   "source": [
    "count = 4"
   ]
  },
  {
   "cell_type": "code",
   "execution_count": 32,
   "metadata": {},
   "outputs": [
    {
     "data": {
      "text/plain": [
       "4"
      ]
     },
     "execution_count": 32,
     "metadata": {},
     "output_type": "execute_result"
    }
   ],
   "source": [
    "count"
   ]
  },
  {
   "cell_type": "code",
   "execution_count": 49,
   "metadata": {},
   "outputs": [
    {
     "name": "stdout",
     "output_type": "stream",
     "text": [
      "The number is 21        \n"
     ]
    }
   ],
   "source": [
    "target = get_position() + 100\n",
    "count = count + 1\n",
    "\n",
    "set_position(target)\n",
    "print(\"The number is\", count, \"       \")"
   ]
  },
  {
   "cell_type": "code",
   "execution_count": 21,
   "metadata": {},
   "outputs": [
    {
     "data": {
      "text/plain": [
       "0"
      ]
     },
     "execution_count": 21,
     "metadata": {},
     "output_type": "execute_result"
    }
   ],
   "source": [
    "smiq.cw_on()"
   ]
  },
  {
   "cell_type": "code",
   "execution_count": 14,
   "metadata": {
    "collapsed": true
   },
   "outputs": [],
   "source": [
    "set_to_zero()"
   ]
  },
  {
   "cell_type": "code",
   "execution_count": null,
   "metadata": {
    "collapsed": true
   },
   "outputs": [],
   "source": [
    "reset_position(-4800)"
   ]
  },
  {
   "cell_type": "code",
   "execution_count": null,
   "metadata": {
    "collapsed": true
   },
   "outputs": [],
   "source": [
    "smiq.off()\n"
   ]
  },
  {
   "cell_type": "code",
   "execution_count": 15,
   "metadata": {},
   "outputs": [
    {
     "data": {
      "text/plain": [
       "array([2.82      , 2.82067114, 2.82134228, 2.82201342, 2.82268456,\n",
       "       2.8233557 , 2.82402685, 2.82469799, 2.82536913, 2.82604027,\n",
       "       2.82671141, 2.82738255, 2.82805369, 2.82872483, 2.82939597,\n",
       "       2.83006711, 2.83073826, 2.8314094 , 2.83208054, 2.83275168,\n",
       "       2.83342282, 2.83409396, 2.8347651 , 2.83543624, 2.83610738,\n",
       "       2.83677852, 2.83744966, 2.83812081, 2.83879195, 2.83946309,\n",
       "       2.84013423, 2.84080537, 2.84147651, 2.84214765, 2.84281879,\n",
       "       2.84348993, 2.84416107, 2.84483221, 2.84550336, 2.8461745 ,\n",
       "       2.84684564, 2.84751678, 2.84818792, 2.84885906, 2.8495302 ,\n",
       "       2.85020134, 2.85087248, 2.85154362, 2.85221477, 2.85288591,\n",
       "       2.85355705, 2.85422819, 2.85489933, 2.85557047, 2.85624161,\n",
       "       2.85691275, 2.85758389, 2.85825503, 2.85892617, 2.85959732,\n",
       "       2.86026846, 2.8609396 , 2.86161074, 2.86228188, 2.86295302,\n",
       "       2.86362416, 2.8642953 , 2.86496644, 2.86563758, 2.86630872,\n",
       "       2.86697987, 2.86765101, 2.86832215, 2.86899329, 2.86966443,\n",
       "       2.87033557, 2.87100671, 2.87167785, 2.87234899, 2.87302013,\n",
       "       2.87369128, 2.87436242, 2.87503356, 2.8757047 , 2.87637584,\n",
       "       2.87704698, 2.87771812, 2.87838926, 2.8790604 , 2.87973154,\n",
       "       2.88040268, 2.88107383, 2.88174497, 2.88241611, 2.88308725,\n",
       "       2.88375839, 2.88442953, 2.88510067, 2.88577181, 2.88644295,\n",
       "       2.88711409, 2.88778523, 2.88845638, 2.88912752, 2.88979866,\n",
       "       2.8904698 , 2.89114094, 2.89181208, 2.89248322, 2.89315436,\n",
       "       2.8938255 , 2.89449664, 2.89516779, 2.89583893, 2.89651007,\n",
       "       2.89718121, 2.89785235, 2.89852349, 2.89919463, 2.89986577,\n",
       "       2.90053691, 2.90120805, 2.90187919, 2.90255034, 2.90322148,\n",
       "       2.90389262, 2.90456376, 2.9052349 , 2.90590604, 2.90657718,\n",
       "       2.90724832, 2.90791946, 2.9085906 , 2.90926174, 2.90993289,\n",
       "       2.91060403, 2.91127517, 2.91194631, 2.91261745, 2.91328859,\n",
       "       2.91395973, 2.91463087, 2.91530201, 2.91597315, 2.9166443 ,\n",
       "       2.91731544, 2.91798658, 2.91865772, 2.91932886, 2.92      ])"
      ]
     },
     "execution_count": 15,
     "metadata": {},
     "output_type": "execute_result"
    }
   ],
   "source": [
    "np.linspace(2.82, 2.92, 150)"
   ]
  },
  {
   "cell_type": "code",
   "execution_count": 9,
   "metadata": {},
   "outputs": [
    {
     "data": {
      "text/plain": [
       "922329.0"
      ]
     },
     "execution_count": 9,
     "metadata": {},
     "output_type": "execute_result"
    }
   ],
   "source": [
    "counterlogic.countdata[0,-1]"
   ]
  },
  {
   "cell_type": "code",
   "execution_count": null,
   "metadata": {
    "collapsed": true
   },
   "outputs": [],
   "source": []
  }
 ],
 "metadata": {
  "kernelspec": {
   "display_name": "Qudi",
   "language": "python",
   "name": "qudi"
  },
  "language_info": {
   "codemirror_mode": {
    "name": "ipython",
    "version": "3.6.5"
   },
   "file_extension": ".py",
   "mimetype": "text/x-python",
   "name": "python",
   "nbconvert_exporter": "python",
   "pygments_lexer": "ipython3",
   "version": "3.6.5"
  }
 },
 "nbformat": 4,
 "nbformat_minor": 2
}
