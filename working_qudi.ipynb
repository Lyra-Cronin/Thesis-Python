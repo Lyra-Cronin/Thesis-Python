{
 "cells": [
  {
   "cell_type": "code",
   "execution_count": 109,
   "metadata": {},
   "outputs": [],
   "source": [
    "import subprocess\n",
    "import yaml\n",
    "from time import sleep\n",
    "import os\n",
    "import numpy as np"
   ]
  },
  {
   "cell_type": "code",
   "execution_count": null,
   "metadata": {},
   "outputs": [],
   "source": [
    "def ticcmd(*args):\n",
    "    return subprocess.check_output(['ticcmd'] + list(args))\n",
    "\n",
    "def get_position():\n",
    "    status = yaml.load(ticcmd('-s', '--full'))\n",
    "    position = status['Current position']\n",
    "    return position\n",
    "\n",
    "def set_position(target_position):\n",
    "    position = get_position()\n",
    "    ticcmd('--resume', '--position', str(target_position))\n",
    "    while position != target_position:\n",
    "        position = get_position()\n",
    "        print(position, end=\"\\r\")\n",
    "        sleep(0.1)\n",
    "    #sleep(0.5)\n",
    "    #print(position)\n",
    "    \n",
    "def set_cavity_frequency(current_frequency, target_frequency, calibration_constant):\n",
    "    frequency_change = target_frequency - current_frequency\n",
    "    steps_required = int(np.rint(frequency_change / calibration_constant))\n",
    "    target_position = get_position() + steps_required\n",
    "    set_position(target_position)\n",
    "    \n",
    "def reset_position(initial_position):\n",
    "    set_position(initial_position - 500)\n",
    "    set_position(initial_position)"
   ]
  },
  {
   "cell_type": "code",
   "execution_count": 22,
   "metadata": {},
   "outputs": [],
   "source": [
    "initial_frequency = 2\n",
    "initial_position = get_position()\n",
    "frequencies = [initial_frequency, 2.6, 2.7, 2.8, 2.9]\n",
    "counts = [0] * len(frequencies)\n",
    "calibration_constant = 0.00015094\n",
    "number_of_runs = 10"
   ]
  },
  {
   "cell_type": "code",
   "execution_count": 16,
   "metadata": {},
   "outputs": [
    {
     "name": "stdout",
     "output_type": "stream",
     "text": [
      "2.6 2.6\n",
      "2.7 2.6\n",
      "2.8 2.7\n",
      "2.9 2.8\n"
     ]
    }
   ],
   "source": [
    "for i in range(number_of_runs):\n",
    "    for i in range(len(frequencies)):\n",
    "        if i == 0:\n",
    "            target_frequency = frequencies[i]\n",
    "            current_frequency = frequencies[i]\n",
    "            smiq.set_cw(frequency=target_frequency)\n",
    "            smiq.cw_on()\n",
    "            counterlogic.startCount()\n",
    "            counterlogic.countdata\n",
    "            counts[i] = counts[i] + sum(counterlogic.countdata)\n",
    "            smiq.off()\n",
    "\n",
    "        if i == len(frequencies):\n",
    "            target_frequency = frequencies[i]\n",
    "            current_frequency = frequencies[i - 1]\n",
    "            set_cavity_frequency(current_frequency, target_frequency, calibration_constant)\n",
    "            smiq.set_cw(frequency=target_frequency)\n",
    "            smiq.cw_on()\n",
    "            counterlogic.startCount()\n",
    "            counterlogic.countdata\n",
    "            counts[i] = counts[i] + sum(counterlogic.countdata)\n",
    "            smiq.off()\n",
    "            reset_position(initial_position)\n",
    "\n",
    "        else:\n",
    "            target_frequency = frequencies[i]\n",
    "            current_frequency = frequencies[i - 1]\n",
    "            set_cavity_frequency(current_frequency, target_frequency, calibration_constant)\n",
    "            smiq.set_cw(frequency=target_frequency)\n",
    "            smiq.cw_on()\n",
    "            counterlogic.startCount()\n",
    "            counterlogic.countdata\n",
    "            counts[i] = counts[i] + sum(counterlogic.countdata)\n",
    "            smiq.off()"
   ]
  },
  {
   "cell_type": "code",
   "execution_count": null,
   "metadata": {},
   "outputs": [],
   "source": [
    "#Sets current position to 0\n",
    "zero_position = 0\n",
    "ticcmd('--exit-safe-start', '--halt-and-set-position', str(zero_position))"
   ]
  },
  {
   "cell_type": "code",
   "execution_count": null,
   "metadata": {},
   "outputs": [],
   "source": [
    "# Brute force way to control anything, pull gui levers.\n",
    "counter._mw.start_counter_Action.trigger()"
   ]
  },
  {
   "cell_type": "code",
   "execution_count": null,
   "metadata": {},
   "outputs": [],
   "source": [
    "#Get current count parameters\n",
    "counterlogic.get_count_length()\n",
    "counterlogic.get_count_frequency()"
   ]
  },
  {
   "cell_type": "code",
   "execution_count": null,
   "metadata": {},
   "outputs": [],
   "source": [
    "#Set count parameters\n",
    "counterlogic.set_count_length()\n",
    "counterlogic.set_count_frequency()"
   ]
  }
 ],
 "metadata": {
  "kernelspec": {
   "display_name": "Python 3",
   "language": "python",
   "name": "python3"
  },
  "language_info": {
   "codemirror_mode": {
    "name": "ipython",
    "version": 3
   },
   "file_extension": ".py",
   "mimetype": "text/x-python",
   "name": "python",
   "nbconvert_exporter": "python",
   "pygments_lexer": "ipython3",
   "version": "3.7.1"
  }
 },
 "nbformat": 4,
 "nbformat_minor": 2
}
